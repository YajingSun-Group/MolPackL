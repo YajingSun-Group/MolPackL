{
 "cells": [
  {
   "cell_type": "code",
   "execution_count": 1,
   "metadata": {},
   "outputs": [],
   "source": [
    "import pandas as pd\n",
    "import numpy as np\n",
    "import os"
   ]
  },
  {
   "cell_type": "code",
   "execution_count": 6,
   "metadata": {},
   "outputs": [],
   "source": [
    "target_label = 'density'\n",
    "data = pd.read_csv(f'./result/all_result_{target_label}_fine_tune.csv')\n",
    "data = data[['id', 'label','group']]\n",
    "# data.columns = ['cod', 'label', 'group']\n",
    "data.to_csv(f'../dataset/{target_label}_label.csv', index=False)"
   ]
  },
  {
   "cell_type": "code",
   "execution_count": 7,
   "metadata": {},
   "outputs": [],
   "source": [
    "target_label = 'elec_max_u'\n",
    "data = pd.read_csv(f'./result/all_result_{target_label}_fine_tune.csv')\n",
    "data = data[['id', 'label','group']]\n",
    "# data.columns = ['cod', 'label', 'group']\n",
    "data.to_csv(f'../dataset/{target_label}_label.csv', index=False)"
   ]
  },
  {
   "cell_type": "code",
   "execution_count": 8,
   "metadata": {},
   "outputs": [],
   "source": [
    "target_label = 'hole_max_u'\n",
    "data = pd.read_csv(f'./result/all_result_{target_label}_fine_tune.csv')\n",
    "data = data[['id', 'label','group']]\n",
    "# data.columns = ['cod', 'label', 'group']\n",
    "data.to_csv(f'../dataset/{target_label}_label.csv', index=False)"
   ]
  },
  {
   "cell_type": "code",
   "execution_count": 10,
   "metadata": {},
   "outputs": [],
   "source": [
    "target_label = 'hole_trans'\n",
    "data = pd.read_csv(f'./result/all_result_{target_label}_origin.csv')\n",
    "data = data[['id', 'label','group']]\n",
    "# data.columns = ['cod', 'label', 'group']\n",
    "data.to_csv(f'../dataset/{target_label}_label.csv', index=False)"
   ]
  },
  {
   "cell_type": "code",
   "execution_count": 11,
   "metadata": {},
   "outputs": [],
   "source": [
    "target_label = 'elec_trans'\n",
    "data = pd.read_csv(f'./result/all_result_{target_label}_origin.csv')\n",
    "data = data[['id', 'label','group']]\n",
    "# data.columns = ['cod', 'label', 'group']\n",
    "data.to_csv(f'../dataset/{target_label}_label.csv', index=False)"
   ]
  },
  {
   "cell_type": "code",
   "execution_count": null,
   "metadata": {},
   "outputs": [],
   "source": []
  }
 ],
 "metadata": {
  "kernelspec": {
   "display_name": "base",
   "language": "python",
   "name": "python3"
  },
  "language_info": {
   "codemirror_mode": {
    "name": "ipython",
    "version": 3
   },
   "file_extension": ".py",
   "mimetype": "text/x-python",
   "name": "python",
   "nbconvert_exporter": "python",
   "pygments_lexer": "ipython3",
   "version": "3.8.8"
  }
 },
 "nbformat": 4,
 "nbformat_minor": 2
}
